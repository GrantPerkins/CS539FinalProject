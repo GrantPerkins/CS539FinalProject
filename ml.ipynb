{
 "cells": [
  {
   "cell_type": "markdown",
   "metadata": {},
   "source": [
    "# Milestone 4\n",
    "Grant Perkins\n",
    "\n",
    "## Abstract\n",
    "## Overview and Motivation\n",
    "## Related Work\n",
    "## Initial Questions\n",
    "## Data\n",
    "## Exploratory Data Analysis\n",
    "## Model Revision\n",
    "## Full Analysis\n"
   ]
  },
  {
   "cell_type": "code",
   "execution_count": 1,
   "metadata": {},
   "outputs": [],
   "source": [
    "import matplotlib.pyplot as plt\n",
    "import numpy as np\n",
    "import pandas as pd\n",
    "import sklearn\n",
    "import sklearn.svm\n",
    "import sklearn.metrics\n",
    "import sklearn.preprocessing\n",
    "import sklearn.decomposition\n",
    "import sklearn.ensemble\n",
    "from sklearn.pipeline import Pipeline\n",
    "import sklearn.model_selection\n",
    "\n",
    "from dataset import MBTADataset"
   ]
  },
  {
   "cell_type": "code",
   "execution_count": 2,
   "outputs": [
    {
     "name": "stdout",
     "output_type": "stream",
     "text": [
      "1429 samples in train set\n",
      "358 samples in test set\n"
     ]
    }
   ],
   "source": [
    "window_size = 14\n",
    "dataset = MBTADataset(window_size)\n",
    "train_X, train_y, test_X, test_y = dataset.make_sklearn_dataset()"
   ],
   "metadata": {
    "collapsed": false
   }
  },
  {
   "cell_type": "code",
   "execution_count": 3,
   "outputs": [],
   "source": [
    "# make list of scalers, decompositions, and models for gridsearch\n",
    "scalers = {\"standard_scaler\": sklearn.preprocessing.StandardScaler(),\n",
    "           \"minmax_scaler\": sklearn.preprocessing.MinMaxScaler(),\n",
    "           \"normal_scaler\": sklearn.preprocessing.Normalizer(),\n",
    "           \"none\": None}\n",
    "\n",
    "decompositions = {\"pca\": [sklearn.decomposition.PCA(), {\"n_components\": [*range(14, 70 + 1, 14)]}],\n",
    "                  \"none\": None}\n",
    "\n",
    "models = {\"svm\": [sklearn.svm.SVR(max_iter=1000), {\"kernel\": [\"linear\", \"poly\", \"rbf\", \"sigmoid\"]}],\n",
    "          \"rf\": [sklearn.ensemble.RandomForestRegressor(),\n",
    "                 {\"n_estimators\": [*range(25, 100 + 1, 25)], \"criterion\": [\"squared_error\", \"poisson\"]}]}"
   ],
   "metadata": {
    "collapsed": false
   }
  },
  {
   "cell_type": "code",
   "execution_count": 6,
   "metadata": {
    "scrolled": false
   },
   "outputs": [
    {
     "name": "stdout",
     "output_type": "stream",
     "text": [
      "Beginning exhaustive search...\n",
      "Starting scaler=standard_scaler, decomposition=pca, model=svm\n",
      "Average MSE across 5 folds:0.004651216\n",
      "Parameters used: {'pca__n_components': 28, 'svm__kernel': 'rbf'}\n",
      "NEW BEST FOUND\n",
      "\n",
      "Starting scaler=standard_scaler, decomposition=pca, model=rf\n",
      "Average MSE across 5 folds:0.004757600\n",
      "Parameters used: {'pca__n_components': 28, 'rf__criterion': 'squared_error', 'rf__n_estimators': 25}\n",
      "NEW BEST FOUND\n",
      "\n",
      "Starting scaler=standard_scaler, decomposition=none, model=svm\n",
      "Average MSE across 5 folds:0.005212253\n",
      "Parameters used: {'svm__kernel': 'rbf'}\n",
      "NEW BEST FOUND\n",
      "\n",
      "Starting scaler=standard_scaler, decomposition=none, model=rf\n",
      "Average MSE across 5 folds:0.003219301\n",
      "Parameters used: {'rf__criterion': 'squared_error', 'rf__n_estimators': 100}\n",
      "NEW BEST FOUND\n",
      "\n",
      "Starting scaler=minmax_scaler, decomposition=pca, model=svm\n",
      "Average MSE across 5 folds:0.004668959\n",
      "Parameters used: {'pca__n_components': 28, 'svm__kernel': 'rbf'}\n",
      "NEW BEST FOUND\n",
      "\n",
      "Starting scaler=minmax_scaler, decomposition=pca, model=rf\n",
      "Average MSE across 5 folds:0.003723472\n",
      "Parameters used: {'pca__n_components': 70, 'rf__criterion': 'poisson', 'rf__n_estimators': 100}\n",
      "NEW BEST FOUND\n",
      "\n",
      "Starting scaler=minmax_scaler, decomposition=none, model=svm\n",
      "Average MSE across 5 folds:0.005178977\n",
      "Parameters used: {'svm__kernel': 'rbf'}\n",
      "NEW BEST FOUND\n",
      "\n",
      "Starting scaler=minmax_scaler, decomposition=none, model=rf\n",
      "Average MSE across 5 folds:0.003453593\n",
      "Parameters used: {'rf__criterion': 'squared_error', 'rf__n_estimators': 50}\n",
      "NEW BEST FOUND\n",
      "\n",
      "Starting scaler=normal_scaler, decomposition=pca, model=svm\n",
      "Average MSE across 5 folds:0.004901599\n",
      "Parameters used: {'pca__n_components': 42, 'svm__kernel': 'linear'}\n",
      "NEW BEST FOUND\n",
      "\n",
      "Starting scaler=normal_scaler, decomposition=pca, model=rf\n",
      "Average MSE across 5 folds:0.002766376\n",
      "Parameters used: {'pca__n_components': 28, 'rf__criterion': 'squared_error', 'rf__n_estimators': 50}\n",
      "NEW BEST FOUND\n",
      "\n",
      "Starting scaler=normal_scaler, decomposition=none, model=svm\n",
      "Average MSE across 5 folds:0.004415611\n",
      "Parameters used: {'svm__kernel': 'poly'}\n",
      "NEW BEST FOUND\n",
      "\n",
      "Starting scaler=normal_scaler, decomposition=none, model=rf\n",
      "Average MSE across 5 folds:0.002695361\n",
      "Parameters used: {'rf__criterion': 'squared_error', 'rf__n_estimators': 75}\n",
      "NEW BEST FOUND\n",
      "\n",
      "Starting scaler=none, decomposition=pca, model=svm\n",
      "Average MSE across 5 folds:0.005283297\n",
      "Parameters used: {'pca__n_components': 28, 'svm__kernel': 'rbf'}\n",
      "NEW BEST FOUND\n",
      "\n",
      "Starting scaler=none, decomposition=pca, model=rf\n",
      "Average MSE across 5 folds:0.002537649\n",
      "Parameters used: {'pca__n_components': 42, 'rf__criterion': 'poisson', 'rf__n_estimators': 25}\n",
      "NEW BEST FOUND\n",
      "\n",
      "Starting scaler=none, decomposition=none, model=svm\n",
      "Average MSE across 5 folds:0.005185349\n",
      "Parameters used: {'svm__kernel': 'poly'}\n",
      "NEW BEST FOUND\n",
      "\n",
      "Starting scaler=none, decomposition=none, model=rf\n",
      "Average MSE across 5 folds:0.003205951\n",
      "Parameters used: {'rf__criterion': 'poisson', 'rf__n_estimators': 100}\n",
      "NEW BEST FOUND\n",
      "\n",
      "Best found after search.\n",
      "{'score': 0.003205950995536924, 'steps': [('rf', RandomForestRegressor())], 'parameters': {'rf__n_estimators': [25, 50, 75, 100], 'rf__criterion': ['squared_error', 'poisson']}}\n"
     ]
    }
   ],
   "source": [
    "# make all combinations of scalers, decompositions, and models.\n",
    "# do grid search on these iterations.\n",
    "# find best combo with best params.\n",
    "\n",
    "print(\"Beginning exhaustive search...\")\n",
    "best = {\"score\": 100, \"steps\": None, \"parameters\": None}\n",
    "for scaler_name, scaler in scalers.items():\n",
    "    for decomposition_name, decomposition_data in decompositions.items():\n",
    "        for model_name, model_data in models.items():\n",
    "            print(f\"Starting scaler={scaler_name}, decomposition={decomposition_name}, model={model_name}\")\n",
    "            param_grid = {}\n",
    "            steps = []\n",
    "            # use a scaler?\n",
    "            if scaler_name != \"none\":\n",
    "                steps.append((scaler_name, scaler))\n",
    "            # use a decomposition?\n",
    "            if decomposition_name != \"none\":\n",
    "                decomposition, params = decomposition_data\n",
    "                # add all parameters to param grid\n",
    "                for param_name, args in params.items():\n",
    "                    param_grid.update({f\"{decomposition_name}__{param_name}\": args})\n",
    "                steps.append((decomposition_name, decomposition))\n",
    "            model, params = model_data\n",
    "            for param_name, args in params.items():\n",
    "                # add all parameters to param grid\n",
    "                param_grid.update({f\"{model_name}__{param_name}\": args})\n",
    "            steps.append((model_name, model))\n",
    "\n",
    "            pipe = Pipeline(steps=steps)\n",
    "\n",
    "            search = sklearn.model_selection.GridSearchCV(pipe, param_grid, n_jobs=5, scoring=\"neg_mean_squared_error\",\n",
    "                                                          error_score=\"raise\")\n",
    "            search.fit(train_X, train_y)\n",
    "            print(f\"Average MSE across 5 folds:{-search.best_score_:0.9f}\")\n",
    "            print(\"Parameters used:\", search.best_params_)\n",
    "            # using negative MSE, we try to maximize score\n",
    "            if search.best_score_ < best[\"score\"]:\n",
    "                best[\"score\"] = -search.best_score_\n",
    "                best[\"steps\"] = steps\n",
    "                best[\"parameters\"] = param_grid\n",
    "                print(\"NEW BEST FOUND\")\n",
    "            print()\n",
    "print(\"Best found after search.\")\n",
    "print(best)"
   ]
  },
  {
   "cell_type": "code",
   "execution_count": null,
   "metadata": {},
   "outputs": [],
   "source": []
  },
  {
   "cell_type": "code",
   "execution_count": null,
   "metadata": {},
   "outputs": [],
   "source": []
  }
 ],
 "metadata": {
  "kernelspec": {
   "display_name": "Python 3 (ipykernel)",
   "language": "python",
   "name": "python3"
  },
  "language_info": {
   "codemirror_mode": {
    "name": "ipython",
    "version": 3
   },
   "file_extension": ".py",
   "mimetype": "text/x-python",
   "name": "python",
   "nbconvert_exporter": "python",
   "pygments_lexer": "ipython3",
   "version": "3.11.1"
  }
 },
 "nbformat": 4,
 "nbformat_minor": 1
}
