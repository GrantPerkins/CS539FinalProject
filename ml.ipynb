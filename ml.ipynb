{
 "cells": [
  {
   "cell_type": "markdown",
   "metadata": {},
   "source": [
    "# Milestone 3\n",
    "Grant Perkins\n",
    "\n",
    "## Summary of Process\n",
    "### Business Problem\n",
    "Can the reliability of the MBTA Red Line be predicted using data from other rapid transit lines?\n",
    "### Data Manipulation\n",
    "#### Data Cleaning\n",
    "There were a few missing data points (<3%). I interpolated the missing data in each column by inserting the median value for that column. Otherwise, the data was very clean.\n",
    "#### Data Wrangling\n",
    "In its raw form, the MBTA reliability dataset has a row for each rapid transit reading every day. This means on a given monday, there is a row for the red line, a row for the blue line, etc. In the below code, I transform the dataset by having one row for each day, and columns for each of the rapid transit lines.\n",
    "\n",
    "I also prepare my dataset labels by dividing the `Red_Numerator` column by the `Red_Denominator` column, resulting in a measure of how reliable the red line was each day. The mean of these labels is ~90% reliability, so I define a train being on time as being >90% reliable, and a train being late as <90% reliable. I am training the model as a regression problem, simply due to how arbitrary my 90% threshold is. To calculate accuracy, I will simply compare predictions with my threshold, then calculate accuracy instead of a regression metric.\n",
    "### EDA\n",
    "I looked at missing data, outliers, distributions of my data for each column, summary statistics, and correlation between variables. Most of my work went into correlation analyis, where I made a correlation matrix, scatter plots, and line plots of multiple variables.\n",
    "\n",
    "## Research Question\n",
    "Can features be derived from the MBTA's reliability dataset to classify whether the Red Line Rapid Transit will be late during peak hours to at least 75% accuracy?\n",
    "\n",
    "## Analysis Approach\n",
    "I was unsuccessful in producing a model that could make intelligent predictions, but it was not for the lack of trying. You will see my attempts below.\n",
    "### Feature Engineering\n",
    "I made two datasets, one for small ML models from scikit-learn, and another dataset for recurrent neural networks written in PyTorch.\n",
    "For both datasets, I min/max scale each column so my values are between 0 and 1. Then, I use a sliding/rolling window approach to generate 30 day time series to predict on.\n",
    "#### scikit-learn Dataset FE\n",
    "Each window is `30 days X 14 columns`. This is too many features for a model such as an SVM to learn, so I will do some dimension reduction to have a more reasonable dataset. My approach is that for each column, I fit a low-degree polynomial and use the coefficients as features. Using a 3rd degree polynomial, each window ends up being `4 coefficients (3 + intercept) X 14 columns`.\n",
    "#### PyTorch Dataset FE\n",
    "Each window is `30 days X 14 columns`. This is perfectly fine for deep learning approaches. I do no feature engineering here.\n",
    "\n",
    "### Modeling\n",
    "I have tried a few models so far:\n",
    "- Support Vector Machine (SVM)\n",
    "- Long Short Term Memory model (LSTM)\n",
    "- Gated Recurrent Unit model (GRU)\n",
    "\n",
    "### Performance Evaluation\n",
    "I will use the below metrics to evaluate my models.\n",
    "#### Classification metrics\n",
    "- Accuracy\n",
    "- Macro F1 score\n",
    "- Precision\n",
    "- Recall\n",
    "Honestly, I'm just using scikit-learn's classification report function.\n",
    "#### Model loss\n",
    "I'm using MSE loss for my deep learning models while training. I am evaluating training and validation loss.\n",
    "\n",
    "## Preliminary results\n",
    "\n",
    "I'm going to use the metrics defined above. I'm also going to make ROC plots. First step: define DNN models.\n"
   ]
  },
  {
   "cell_type": "code",
   "execution_count": 1,
   "metadata": {},
   "outputs": [],
   "source": [
    "import matplotlib.pyplot as plt\n",
    "import numpy as np\n",
    "import sklearn\n",
    "import sklearn.svm\n",
    "import sklearn.metrics\n",
    "import torch\n",
    "from torch import nn\n",
    "\n",
    "from dataset import MBTADataset"
   ]
  },
  {
   "cell_type": "code",
   "execution_count": 2,
   "metadata": {},
   "outputs": [],
   "source": [
    "class LSTM(nn.Module):\n",
    "    \"\"\"\n",
    "    LSTM regression model using PyTorch\n",
    "    \"\"\"\n",
    "\n",
    "    def __init__(self, input_size, hidden_size, num_layers, output_size):\n",
    "        \"\"\"\n",
    "        Create LSTM model\n",
    "        :param input_size: number of input features\n",
    "        :param hidden_size: size of hidden layer\n",
    "        :param num_layers: number of recurrent layers\n",
    "        :param output_size: output neurons\n",
    "        \"\"\"\n",
    "        super().__init__()\n",
    "        self.hidden_dim = hidden_size\n",
    "        self.layer_dim = num_layers\n",
    "        self.rnn = nn.LSTM(input_size, hidden_size, num_layers, batch_first=True,\n",
    "                           dropout=0.1)  # add a little bit of dropout to encourage growth\n",
    "        self.fc = nn.Linear(hidden_size, output_size)\n",
    "        self.softmax = nn.Softmax(dim=1)  # make output [0, 1]\n",
    "        self.batch_size = None\n",
    "        self.hidden = None\n",
    "\n",
    "    def forward(self, x):\n",
    "        \"\"\"\n",
    "        Predict!\n",
    "        :param x: input\n",
    "        :return: prediction\n",
    "        \"\"\"\n",
    "        h0, c0 = self.init_hidden(x)\n",
    "        out, (hn, cn) = self.rnn(x, (h0, c0))\n",
    "        out = self.fc(out[:, -1, :])\n",
    "        return out\n",
    "\n",
    "    def init_hidden(self, x):\n",
    "        \"\"\"\n",
    "        Initialize hidden layers with random weights.\n",
    "        Need to explore random versus zeros, see if it makes a difference.\n",
    "        :param x: input tensor\n",
    "        :return: h and c tensors\n",
    "        \"\"\"\n",
    "        h0 = torch.randn(self.layer_dim, x.size(0), self.hidden_dim)\n",
    "        c0 = torch.randn(self.layer_dim, x.size(0), self.hidden_dim)\n",
    "        return [t.cpu() for t in (h0, c0)]"
   ]
  },
  {
   "cell_type": "code",
   "execution_count": 3,
   "metadata": {},
   "outputs": [],
   "source": [
    "class GRU(nn.Module):\n",
    "    \"\"\"\n",
    "    GRU regression model using PyTorch\n",
    "    \"\"\"\n",
    "\n",
    "    def __init__(self, input_size, hidden_size, num_layers, output_size):\n",
    "        \"\"\"\n",
    "        Create GRU model\n",
    "        :param input_size: number of input features\n",
    "        :param hidden_size: size of hidden layer\n",
    "        :param num_layers: number of recurrent layers\n",
    "        :param output_size: output neurons\n",
    "        \"\"\"\n",
    "        super().__init__()\n",
    "        self.hidden_dim = hidden_size\n",
    "        self.layer_dim = num_layers\n",
    "        self.rnn = nn.GRU(input_size, hidden_size, num_layers, batch_first=True,\n",
    "                          dropout=0.1)  # add a little bit of dropout to encourage growth\n",
    "        self.fc = nn.Linear(hidden_size, output_size)\n",
    "        self.softmax = nn.Softmax(dim=1)  # make output [0, 1]\n",
    "        self.batch_size = None\n",
    "        self.hidden = None\n",
    "\n",
    "    def forward(self, x):\n",
    "        \"\"\"\n",
    "        Predict!\n",
    "        :param x: input\n",
    "        :return: prediction\n",
    "        \"\"\"\n",
    "        h0 = self.init_hidden(x)\n",
    "        out, hn = self.rnn(x, h0)\n",
    "        out = self.fc(out[:, -1, :])\n",
    "        return out\n",
    "\n",
    "    def init_hidden(self, x):\n",
    "        \"\"\"\n",
    "        Initialize hidden layers with random weights.\n",
    "        Need to explore random versus zeros, see if it makes a difference.\n",
    "        :param x: input tensor\n",
    "        :return: h tensor\n",
    "        \"\"\"\n",
    "        return torch.randn(self.layer_dim, x.size(0), self.hidden_dim).cpu()"
   ]
  },
  {
   "cell_type": "markdown",
   "metadata": {},
   "source": [
    "With models defined, now I have to set up functions to train and evaluate the models."
   ]
  },
  {
   "cell_type": "code",
   "execution_count": 4,
   "metadata": {},
   "outputs": [],
   "source": [
    "def train_and_evaluate_SVM(mbta_dataset: MBTADataset):\n",
    "    \"\"\"\n",
    "    Train and evaluate sklearn's SVM\n",
    "    :param mbta_dataset: MBTADataset object.\n",
    "    :return: nothing. prints classification report.\n",
    "    \"\"\"\n",
    "    train_X, train_y, test_X, test_y = mbta_dataset.make_sklearn_dataset()\n",
    "    model = sklearn.svm.SVR(kernel=\"rbf\")\n",
    "    model.fit(train_X, train_y)\n",
    "    preds = model.predict(test_X) < 0.9\n",
    "    truths = test_y < 0.9\n",
    "    print(sklearn.metrics.classification_report(truths, preds))"
   ]
  },
  {
   "cell_type": "code",
   "execution_count": 5,
   "metadata": {},
   "outputs": [],
   "source": [
    "def train_torch_model(train_loader, val_loader, model: nn.Module, optimizer, loss_func, model_name):\n",
    "    \"\"\"\n",
    "    Train a PyTorch model to its lowest validation loss.\n",
    "    Stop training when loss has not been reduced after 100 epochs.\n",
    "    :param train_loader: train dataset loader\n",
    "    :param val_loader: validation dataset loader\n",
    "    :param model: a PyTorch model.\n",
    "    :param optimizer: optimization function\n",
    "    :param loss_func: loss function\n",
    "    :param model_name: name of model to save file to\n",
    "    :return: train and validation loss as a dictionary\n",
    "    \"\"\"\n",
    "    print('Start model training')\n",
    "    best_loss = 10  # set a ridiculously high loss to start with\n",
    "    patience, trials = 100, 0  # track how long it's been since loss has improved\n",
    "    losses = {\"train\": [], \"val\": [], \"epoch\": []}\n",
    "    epoch = 0\n",
    "\n",
    "    while trials < patience:  # train loop!\n",
    "        epoch += 1\n",
    "        epoch_train_losses = []  # collect batch losses\n",
    "        for i, (x_batch, y_batch) in enumerate(train_loader):\n",
    "            model.train()\n",
    "            x_batch = x_batch.cpu()\n",
    "            y_batch = y_batch.cpu()\n",
    "            optimizer.zero_grad()\n",
    "            out = model(x_batch)\n",
    "            loss = loss_func(out, y_batch)  # calculate loss\n",
    "            epoch_train_losses.append(loss.detach().numpy())\n",
    "            loss.backward()  # gradient descent\n",
    "            optimizer.step()  # apply gradients\n",
    "\n",
    "        # calculate validation loss\n",
    "        model.eval()\n",
    "        epoch_val_losses = []\n",
    "        for x_val, y_val in val_loader:\n",
    "            x_val, y_val = [t.cpu() for t in (x_val, y_val)]\n",
    "            out = model(x_val)\n",
    "            loss = loss_func(out, y_val)\n",
    "            epoch_val_losses.append(loss.detach().numpy())\n",
    "\n",
    "        epoch_val_loss = np.stack(epoch_val_losses).ravel().mean()  # average validation loss\n",
    "        epoch_train_loss = np.stack(epoch_train_losses).ravel().mean()  # average train loss\n",
    "        losses[\"val\"].append(epoch_val_loss)\n",
    "        losses[\"train\"].append(epoch_train_loss)\n",
    "        losses[\"epoch\"].append(epoch)\n",
    "\n",
    "        if epoch % 10 == 0:\n",
    "            print(f\"Epoch: {epoch}. Train loss: {epoch_train_loss:.7f}. Validation loss: {epoch_val_loss:.7f}\")\n",
    "\n",
    "        if epoch_val_loss < best_loss:\n",
    "            trials = 0\n",
    "            best_loss = epoch_val_loss\n",
    "            torch.save(model.state_dict(), f'{model_name}.pth')\n",
    "            print(f'Saved Epoch: {epoch} with validation loss: {best_loss:.7f}')\n",
    "        else:\n",
    "            trials += 1\n",
    "\n",
    "    print(f'Early stopping on epoch {epoch}')\n",
    "    return losses"
   ]
  },
  {
   "cell_type": "code",
   "execution_count": 13,
   "metadata": {},
   "outputs": [],
   "source": [
    "def evaluate_torch_model(test_loader, model: nn.Module, model_name):\n",
    "    \"\"\"\n",
    "    Evaluate torch model with classification metrics\n",
    "    :param test_loader:\n",
    "    :param model:\n",
    "    :param model_name:\n",
    "    :return:\n",
    "    \"\"\"\n",
    "    model.load_state_dict(torch.load(f\"{model_name}.pth\")) # load saved weights\n",
    "    model.eval()\n",
    "    # compare ground truths against predictions\n",
    "    truths = []\n",
    "    predictions = []\n",
    "    for x_val, y_val in test_loader:\n",
    "        x_val, y_val = [t.cpu() for t in (x_val, y_val)]\n",
    "        truths.extend(y_val.numpy().tolist())\n",
    "        out = model(x_val)\n",
    "        predictions.extend(out.detach().numpy().tolist())\n",
    "    # convert confidences to classes\n",
    "    truths = np.array(truths) < 0.9\n",
    "    predictions = np.array(predictions) < 0.9\n",
    "    # classification metrics\n",
    "    print(sklearn.metrics.classification_report(truths, predictions))"
   ]
  },
  {
   "cell_type": "code",
   "execution_count": 7,
   "metadata": {},
   "outputs": [],
   "source": [
    "def plot_torch_training_results(model_name, losses):\n",
    "    \"\"\"\n",
    "    Plot train and validation losses\n",
    "    :param model_name: name of model\n",
    "    :param losses: loss dict\n",
    "    :return: None\n",
    "    \"\"\"\n",
    "    plt.plot(losses[\"epoch\"], losses[\"train\"], label=\"Training Loss\")\n",
    "    plt.plot(losses[\"epoch\"], losses[\"val\"], label=\"Validation Loss\")\n",
    "    plt.title(f\"Model Loss for {model_name}\")\n",
    "    plt.legend()\n",
    "    plt.show()"
   ]
  },
  {
   "cell_type": "markdown",
   "metadata": {},
   "source": [
    "Time to get some results! I will be interpreting them after each code block."
   ]
  },
  {
   "cell_type": "code",
   "execution_count": 8,
   "metadata": {},
   "outputs": [
    {
     "name": "stdout",
     "output_type": "stream",
     "text": [
      "1068 samples in train set\n",
      "356 samples in val set\n",
      "356 samples in test set\n"
     ]
    },
    {
     "name": "stderr",
     "output_type": "stream",
     "text": [
      "/home/grant/code/CS539FinalProject/dataset.py:63: SettingWithCopyWarning: \n",
      "A value is trying to be set on a copy of a slice from a DataFrame.\n",
      "Try using .loc[row_indexer,col_indexer] = value instead\n",
      "\n",
      "See the caveats in the documentation: https://pandas.pydata.org/pandas-docs/stable/user_guide/indexing.html#returning-a-view-versus-a-copy\n",
      "  variables_df[col] = (series - series.min()) / (series.max() - series.min())\n"
     ]
    }
   ],
   "source": [
    "window_size = 21\n",
    "dataset = MBTADataset(window_size)\n",
    "train_loader, val_loader, test_loader = dataset.make_torch_dataset()"
   ]
  },
  {
   "cell_type": "markdown",
   "metadata": {},
   "source": [
    "#### SVM Training and Evaluation"
   ]
  },
  {
   "cell_type": "code",
   "execution_count": 9,
   "metadata": {},
   "outputs": [
    {
     "name": "stdout",
     "output_type": "stream",
     "text": [
      "1424 samples in train set\n",
      "356 samples in test set\n",
      "              precision    recall  f1-score   support\n",
      "\n",
      "       False       0.00      0.00      0.00       189\n",
      "        True       0.47      1.00      0.64       167\n",
      "\n",
      "    accuracy                           0.47       356\n",
      "   macro avg       0.23      0.50      0.32       356\n",
      "weighted avg       0.22      0.47      0.30       356\n",
      "\n"
     ]
    },
    {
     "name": "stderr",
     "output_type": "stream",
     "text": [
      "/home/grant/.local/lib/python3.8/site-packages/sklearn/metrics/_classification.py:1344: UndefinedMetricWarning: Precision and F-score are ill-defined and being set to 0.0 in labels with no predicted samples. Use `zero_division` parameter to control this behavior.\n",
      "  _warn_prf(average, modifier, msg_start, len(result))\n",
      "/home/grant/.local/lib/python3.8/site-packages/sklearn/metrics/_classification.py:1344: UndefinedMetricWarning: Precision and F-score are ill-defined and being set to 0.0 in labels with no predicted samples. Use `zero_division` parameter to control this behavior.\n",
      "  _warn_prf(average, modifier, msg_start, len(result))\n",
      "/home/grant/.local/lib/python3.8/site-packages/sklearn/metrics/_classification.py:1344: UndefinedMetricWarning: Precision and F-score are ill-defined and being set to 0.0 in labels with no predicted samples. Use `zero_division` parameter to control this behavior.\n",
      "  _warn_prf(average, modifier, msg_start, len(result))\n"
     ]
    }
   ],
   "source": [
    "train_and_evaluate_SVM(dataset)"
   ]
  },
  {
   "cell_type": "markdown",
   "metadata": {},
   "source": [
    "Needless to say, the SVM performed very poorly. It did not predict the red line to late even once. All number here are meaningless, other than the 0% precision, recall, and macro-f1 score for the `False` class. I initially suspected this could be due to very high dimensional data, that may be too difficult to find trends in for a simple model. This unfortunately is not the case, as we see more results.\n",
    "\n",
    "#### GRU Training and Evaluation"
   ]
  },
  {
   "cell_type": "code",
   "execution_count": 10,
   "metadata": {},
   "outputs": [],
   "source": [
    "input_dim = 14\n",
    "hidden_dim = 64\n",
    "layer_dim = 5\n",
    "output_dim = 1\n",
    "lr = 0.0001\n",
    "n_epochs = 1000"
   ]
  },
  {
   "cell_type": "code",
   "execution_count": 11,
   "metadata": {},
   "outputs": [
    {
     "name": "stdout",
     "output_type": "stream",
     "text": [
      "Start model training\n",
      "Saved Epoch: 1 with validation loss: 0.0011831\n",
      "Epoch: 10. Train loss: 0.0041881. Validation loss: 0.0036817\n",
      "Epoch: 20. Train loss: 0.0037379. Validation loss: 0.0034073\n",
      "Epoch: 30. Train loss: 0.0035672. Validation loss: 0.0023946\n",
      "Epoch: 40. Train loss: 0.0033650. Validation loss: 0.0017263\n",
      "Epoch: 50. Train loss: 0.0034445. Validation loss: 0.0010963\n",
      "Saved Epoch: 50 with validation loss: 0.0010963\n",
      "Saved Epoch: 52 with validation loss: 0.0010937\n",
      "Saved Epoch: 54 with validation loss: 0.0010527\n",
      "Saved Epoch: 55 with validation loss: 0.0010430\n",
      "Saved Epoch: 56 with validation loss: 0.0009226\n",
      "Saved Epoch: 59 with validation loss: 0.0009222\n",
      "Epoch: 60. Train loss: 0.0034006. Validation loss: 0.0009409\n",
      "Saved Epoch: 61 with validation loss: 0.0008854\n",
      "Saved Epoch: 63 with validation loss: 0.0008103\n",
      "Epoch: 70. Train loss: 0.0032771. Validation loss: 0.0008548\n",
      "Saved Epoch: 72 with validation loss: 0.0007979\n",
      "Saved Epoch: 73 with validation loss: 0.0007975\n",
      "Saved Epoch: 75 with validation loss: 0.0007903\n",
      "Epoch: 80. Train loss: 0.0032267. Validation loss: 0.0008201\n",
      "Epoch: 90. Train loss: 0.0031496. Validation loss: 0.0008862\n",
      "Epoch: 100. Train loss: 0.0031043. Validation loss: 0.0009760\n",
      "Epoch: 110. Train loss: 0.0030523. Validation loss: 0.0009003\n",
      "Epoch: 120. Train loss: 0.0030160. Validation loss: 0.0008833\n",
      "Epoch: 130. Train loss: 0.0029371. Validation loss: 0.0007953\n",
      "Epoch: 140. Train loss: 0.0028206. Validation loss: 0.0009827\n",
      "Epoch: 150. Train loss: 0.0027462. Validation loss: 0.0009677\n",
      "Epoch: 160. Train loss: 0.0025296. Validation loss: 0.0010682\n",
      "Epoch: 170. Train loss: 0.0023234. Validation loss: 0.0008332\n",
      "Early stopping on epoch 175\n"
     ]
    }
   ],
   "source": [
    "gru = GRU(input_dim, hidden_dim, layer_dim, output_dim)\n",
    "gru = gru.to(\"cpu\")\n",
    "loss_function = nn.MSELoss()\n",
    "optimizer_function = torch.optim.Adam(gru.parameters(), lr=lr)\n",
    "gru_name = \"GRU\"\n",
    "gru_losses = train_torch_model(train_loader, val_loader, gru, optimizer_function, loss_function, gru_name)"
   ]
  },
  {
   "cell_type": "markdown",
   "metadata": {},
   "source": [
    "The training results for the GRU are promising. It definitely converged on some set of weights."
   ]
  },
  {
   "cell_type": "code",
   "execution_count": 14,
   "metadata": {},
   "outputs": [
    {
     "name": "stdout",
     "output_type": "stream",
     "text": [
      "              precision    recall  f1-score   support\n",
      "\n",
      "       False       0.53      1.00      0.69       189\n",
      "        True       0.00      0.00      0.00       167\n",
      "\n",
      "    accuracy                           0.53       356\n",
      "   macro avg       0.27      0.50      0.35       356\n",
      "weighted avg       0.28      0.53      0.37       356\n",
      "\n"
     ]
    },
    {
     "name": "stderr",
     "output_type": "stream",
     "text": [
      "/home/grant/.local/lib/python3.8/site-packages/sklearn/metrics/_classification.py:1344: UndefinedMetricWarning: Precision and F-score are ill-defined and being set to 0.0 in labels with no predicted samples. Use `zero_division` parameter to control this behavior.\n",
      "  _warn_prf(average, modifier, msg_start, len(result))\n",
      "/home/grant/.local/lib/python3.8/site-packages/sklearn/metrics/_classification.py:1344: UndefinedMetricWarning: Precision and F-score are ill-defined and being set to 0.0 in labels with no predicted samples. Use `zero_division` parameter to control this behavior.\n",
      "  _warn_prf(average, modifier, msg_start, len(result))\n",
      "/home/grant/.local/lib/python3.8/site-packages/sklearn/metrics/_classification.py:1344: UndefinedMetricWarning: Precision and F-score are ill-defined and being set to 0.0 in labels with no predicted samples. Use `zero_division` parameter to control this behavior.\n",
      "  _warn_prf(average, modifier, msg_start, len(result))\n"
     ]
    }
   ],
   "source": [
    "evaluate_torch_model(test_loader, gru, gru_name)"
   ]
  },
  {
   "cell_type": "markdown",
   "metadata": {},
   "source": [
    "Once again, a model failed to predict a class at all in the test set. This is a failure. All values other than the 0's are meaningless. Let's see our loss curves."
   ]
  },
  {
   "cell_type": "code",
   "execution_count": 17,
   "metadata": {},
   "outputs": [
    {
     "data": {
      "image/png": "[encoded data removed]",
      "text/plain": [
       "<Figure size 640x480 with 1 Axes>"
      ]
     },
     "metadata": {},
     "output_type": "display_data"
    }
   ],
   "source": [
    "plot_torch_training_results(gru_name, gru_losses)"
   ]
  },
  {
   "cell_type": "markdown",
   "metadata": {},
   "source": [
    "It does seem that something was in fact learned in the data, and there is no evidence of overfitting. I'm not sure why the loss is so close to 0, and also so lacking in change.\n",
    "\n",
    "#### LSTM Training and Evaluation"
   ]
  },
  {
   "cell_type": "code",
   "execution_count": 15,
   "metadata": {},
   "outputs": [
    {
     "name": "stdout",
     "output_type": "stream",
     "text": [
      "Start model training\n",
      "Saved Epoch: 1 with validation loss: 0.7462776\n",
      "Saved Epoch: 8 with validation loss: 0.7462743\n",
      "Epoch: 10. Train loss: 0.7087370. Validation loss: 0.7462814\n",
      "Epoch: 20. Train loss: 0.7083657. Validation loss: 0.7462766\n",
      "Epoch: 30. Train loss: 0.7085381. Validation loss: 0.7462783\n",
      "Epoch: 40. Train loss: 0.7084448. Validation loss: 0.7462819\n",
      "Epoch: 50. Train loss: 0.7086563. Validation loss: 0.7462801\n",
      "Epoch: 60. Train loss: 0.7085920. Validation loss: 0.7462791\n",
      "Epoch: 70. Train loss: 0.7086384. Validation loss: 0.7462813\n",
      "Epoch: 80. Train loss: 0.7084001. Validation loss: 0.7462831\n",
      "Epoch: 90. Train loss: 0.7086503. Validation loss: 0.7462809\n",
      "Epoch: 100. Train loss: 0.7085876. Validation loss: 0.7462788\n",
      "Early stopping on epoch 108\n"
     ]
    }
   ],
   "source": [
    "lstm = LSTM(input_dim, hidden_dim, layer_dim, output_dim)\n",
    "lstm = lstm.to(\"cpu\")\n",
    "loss_function = nn.MSELoss()\n",
    "optimizer_function = torch.optim.Adam(gru.parameters(), lr=lr)\n",
    "lstm_name = \"LSTM\"\n",
    "lstm_losses = train_torch_model(train_loader, val_loader, lstm, optimizer_function, loss_function, lstm_name)"
   ]
  },
  {
   "cell_type": "markdown",
   "metadata": {},
   "source": [
    "Right off the back, it is clear that the model is not converging. I would not waste time evaluating this model, but I already have the functions written."
   ]
  },
  {
   "cell_type": "code",
   "execution_count": 16,
   "metadata": {},
   "outputs": [
    {
     "name": "stdout",
     "output_type": "stream",
     "text": [
      "              precision    recall  f1-score   support\n",
      "\n",
      "       False       0.00      0.00      0.00       189\n",
      "        True       0.47      1.00      0.64       167\n",
      "\n",
      "    accuracy                           0.47       356\n",
      "   macro avg       0.23      0.50      0.32       356\n",
      "weighted avg       0.22      0.47      0.30       356\n",
      "\n"
     ]
    },
    {
     "name": "stderr",
     "output_type": "stream",
     "text": [
      "/home/grant/.local/lib/python3.8/site-packages/sklearn/metrics/_classification.py:1344: UndefinedMetricWarning: Precision and F-score are ill-defined and being set to 0.0 in labels with no predicted samples. Use `zero_division` parameter to control this behavior.\n",
      "  _warn_prf(average, modifier, msg_start, len(result))\n",
      "/home/grant/.local/lib/python3.8/site-packages/sklearn/metrics/_classification.py:1344: UndefinedMetricWarning: Precision and F-score are ill-defined and being set to 0.0 in labels with no predicted samples. Use `zero_division` parameter to control this behavior.\n",
      "  _warn_prf(average, modifier, msg_start, len(result))\n",
      "/home/grant/.local/lib/python3.8/site-packages/sklearn/metrics/_classification.py:1344: UndefinedMetricWarning: Precision and F-score are ill-defined and being set to 0.0 in labels with no predicted samples. Use `zero_division` parameter to control this behavior.\n",
      "  _warn_prf(average, modifier, msg_start, len(result))\n"
     ]
    }
   ],
   "source": [
    "evaluate_torch_model(test_loader, lstm, lstm_name)"
   ]
  },
  {
   "cell_type": "markdown",
   "metadata": {},
   "source": [
    "As expected, the LSTM did not predict a class at all. All numbers other than 0 are meaningless in this table. Honestly, I have never successfully used an LSTM in any project. Maybe I have an inherent misunderstanding of how it is used, but I am confused because my GRU did converge."
   ]
  },
  {
   "cell_type": "code",
   "execution_count": 18,
   "metadata": {},
   "outputs": [
    {
     "data": {
      "image/png": "[encoded data removed]",
      "text/plain": [
       "<Figure size 640x480 with 1 Axes>"
      ]
     },
     "metadata": {},
     "output_type": "display_data"
    }
   ],
   "source": [
    "plot_torch_training_results(lstm_name, lstm_losses)"
   ]
  },
  {
   "cell_type": "markdown",
   "metadata": {},
   "source": [
    "Finally, we have some perfectly level loss plots. This is disappointing.\n",
    "\n",
    "### Summary of results, approaches, etc.\n",
    "\n",
    "The code we see above is the result of my week of experimentation. I tried a variety of hyperparameters including learning rates, optimizers, hidden layers, layer sizes, but was unable to find success. I made changes to the dataset including testing whether the inclusion or exclusion of historical Red Line in the input would make an impact on the result metrics. I tried using different degree polynomials for the SVM. Unfortunately, I was unable to get anything working intelligently. I did not waste my time making ROC curves or any extra pretty visuals, as I consistently on predicted one class regardless of what model I was training. I put a substantial amount of time into this project, as shown in both this notebook and `dataset.py`. I had to get PyTorch working on my computer to even do this project, as well as learn about GRU and LSTM architectures, and how to use them on a custom dataset.\n",
    "\n",
    "## Looking Forward\n",
    "\n",
    "### Scale\n",
    "I may include weather data for each day, such as rainfall and wind, to see if that will give additional insight. I'm sure I can find a free API for it. I will continue to use the data I am already using.\n",
    "\n",
    "### Model Complexity\n",
    "I will continue to explore different models, including small models such as Random Forest and larger ones like CNNs built for time series forecasting. I am also thinking about new feature engineering techniques, like passing summary statistics for each time period as input. Interested in more ideas, though.\n",
    "\n",
    "### Tools\n",
    "They are already being used. I already have PyTorch set up, as well as of course scikit-learn. The models take about 5/10 minutes to train to 200 epochs.\n",
    "\n",
    "## Obstacles\n",
    " - The first one is of course I have no promising results. This is a major obstacle that I am working on.\n",
    " - I'm not sure what to do for evaluation entirely. Currently I'm doing an admittedly strange regression --> classification approach, which makes it difficult to produce ROC curves"
   ]
  },
  {
   "cell_type": "code",
   "execution_count": null,
   "metadata": {},
   "outputs": [],
   "source": []
  }
 ],
 "metadata": {
  "kernelspec": {
   "display_name": "Python 3 (ipykernel)",
   "language": "python",
   "name": "python3"
  },
  "language_info": {
   "codemirror_mode": {
    "name": "ipython",
    "version": 3
   },
   "file_extension": ".py",
   "mimetype": "text/x-python",
   "name": "python",
   "nbconvert_exporter": "python",
   "pygments_lexer": "ipython3",
   "version": "3.8.10"
  }
 },
 "nbformat": 4,
 "nbformat_minor": 1
}
