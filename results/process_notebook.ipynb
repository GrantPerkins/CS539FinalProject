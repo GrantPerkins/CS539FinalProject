{
 "cells": [
  {
   "cell_type": "markdown",
   "metadata": {},
   "source": [
    "# Milestone 4\n",
    "Grant Perkins\n",
    "\n",
    "## Abstract\n",
    "The Massachusetts Bay Transportation Authority (MBTA) has a commitment to providing their customers transparent performance measures. To aid in this commitment, this project predicts whether the Red Line will be late, given just 2 weeks of historical data on the other rapid transit lines. The MBTA Reliability dataset was split into disjoint training and testing sets. An exhaustive search of methods of scaling, feature decomposition, and models was performed, as well as five-fold cross validation. This produced a normalization into PCA into multi-layer perceptron pipeline capable of 67% accuracy on predicting if the Red Line will be late.\n",
    "\n",
    "## Overview and Motivation\n",
    "The MBTA has a commitment to providing “accurate and timely information” about delays in their services (https://www.mbta.com/policies/our-commitment-you). Predicting if the MBTA’s Red Line Rapid Transit will be late, based on the reliability of the other lines in the past two weeks, would improve accuracy of reported information, in line with business goals.\n",
    "\n",
    "The dataset used in this project can be found [here](https://mbta-massdot.opendata.arcgis.com/datasets/MassDOT::mbta-bus-commuter-rail-rapid-transit-reliability/about). This dataset contains daily information about train reliabilities from 2015 to the start of December 2022. There is information about the three Green lines, the Blue line, the Orange line, and the Red line. For each of these trains on each day, it is provided both how many people tried to get on the train and how many people wanted to get on the train. Dividing these numbers provides a reliability percentage. The median percentage for the Red line is 91%. For this project, the red line is considered late if it is less than 91% reliable on the given day. This problem will be approached as a regression task, with the predicted reliability then used for binary classification. Both regression and classification metrics will be reported.\n",
    "\n",
    "## Related Work\n",
    "My MQP was related to time series prediction on stock market data, which made me interested in exploring more time series prediction problems. The paper for this MQP can be found [here](https://arxiv.org/abs/2212.08734). I also happened to have visited Boston via the commuter rail in the weekend prior to choosing a project topic.\n",
    "\n",
    "## Initial Questions\n",
    "The central question for this project has hardly changed throughout the lifespan of this project. That is: can the reliability of the MBTA Red Line be predicted using data from other rapid transit lines? Or more specifically, can features be derived from the MBTA's reliability dataset to classify whether the Red Line Rapid Transit will be late during peak hours to at least 60% accuracy? The target accuracy has been reduced from 75% to 60%, as this problem ended up being more challenging than I was expecting.\n",
    "\n",
    "## Data\n",
    "The dataset used in this project can be found [here](https://mbta-massdot.opendata.arcgis.com/datasets/MassDOT::mbta-bus-commuter-rail-rapid-transit-reliability/about). The source dataset contained information about all MBTA services including busses and non-city trains, and also had one row for each service on each day. This means on a given monday, there is a row for the red line, a row for the blue line, etc. For this project, I transform the dataset by having one row for each day, and columns for each of the rapid transit lines. The last bit of initial data manipulation was to create a predictor variable, which was taken by dividing the number of people wanting to get on the Red line by how many people actually got on, for each day.\n",
    "\n",
    "## Exploratory Data Analysis\n",
    "My EDA focused on evaluating the ability of the original features for use in prediction. First, a table of missing data percentages was produced. It was found that minimal data was missing, so the median value of each column was used to interpolate. Then, outliers were investigated. Histograms of each column were produced to evaluate the presence of outliers, as well as box plots. Very few outliers were found, so no action was taken. It was also found that most columns were left-skewed, which has no impact on the quality of the data. Next, a summary statistics table was produced. It was found that the Red line is the most used line, and the three Green lines were the least used. Correlation analysis was finally performed. First, a correlation matrix was made, which showed strong correlation between numerators and denominators, and semi-strong correlation between the three Green lines, as well as the Orange line to the Red line and the Blue line to the Red line. Little correlation was found between the Green lines and the Red line. Finally, scatterplots were made in an attempt to find correlation between individual samples of different lines. These scatter plots showed very weak correlation, suggesting deeper models are needed for prediction than simple linear regression. I also tried using a \"fraction dataset\", where I divided the numerator columns by the denominator columns, and ran all of the statistical tests used above. I found no convincing evidence that this dataset performed any better than the original (pre-division), so I chose not to use the fraction dataset for my project.\n",
    "\n",
    "## Final Analysis\n",
    "I'm now going to go step-by-step through my final analysis, in an attempt to predict the reliability of the MBTA Red line. The first step is to load the cleaned dataset. I break the dataset up into two week periods of observation, and attempt to predict the 15th day. This is done below.\n"
   ]
  },
  {
   "cell_type": "code",
   "execution_count": 1,
   "metadata": {},
   "outputs": [],
   "source": [
    "# import necessary packages\n",
    "import matplotlib.pyplot as plt\n",
    "import numpy as np\n",
    "import pandas as pd\n",
    "# scalers\n",
    "import sklearn.preprocessing\n",
    "# decomposition\n",
    "import sklearn.decomposition\n",
    "# models\n",
    "import sklearn.svm\n",
    "import sklearn.neural_network\n",
    "import sklearn.ensemble\n",
    "import sklearn.neural_network\n",
    "from sklearn.pipeline import Pipeline\n",
    "import sklearn.metrics\n",
    "import sklearn.model_selection\n",
    "\n",
    "from dataset import MBTADataset"
   ]
  },
  {
   "cell_type": "code",
   "execution_count": 2,
   "metadata": {},
   "outputs": [
    {
     "name": "stdout",
     "output_type": "stream",
     "text": [
      "1429 samples in train set\n",
      "358 samples in test set\n"
     ]
    }
   ],
   "source": [
    "# load dataset\n",
    "window_size = 14  # how many days are in one sample\n",
    "dataset = MBTADataset(window_size)  # load the dataset, make 14 day windows\n",
    "train_X, train_y, test_X, test_y = dataset.make_sklearn_dataset()  # train test split, 80:20"
   ]
  },
  {
   "cell_type": "markdown",
   "metadata": {},
   "source": [
    "With the dataset now loaded, I want to explore what data scaling, feature decomposition, and ML model best predictions reliability. I also want to know the optimal hyparameters for these modules. Below, I define three dictionaries used for exhaustively searching permutations. The following modules will be explored:\n",
    "\n",
    "Scalers:\n",
    " - Standard scaler\n",
    " - MinMax scaler\n",
    " - Normal scaler\n",
    " - no scaler used\n",
    "\n",
    "Feature decompositions:\n",
    " - Principle Component Analysis\n",
    " - Factor Analysis\n",
    " - no decomposition used\n",
    "\n",
    "Model:\n",
    " - Support Vector Machine\n",
    " - Random Forest\n",
    " - AdaBoost\n",
    " - Multi-layer Perceptron\n",
    "\n",
    "Appropriate hyperparameters for each of these modules will be exhaustively explored. You might wonder why I am using regression models, and not classification. I am doing this because through experimentation, I found it difficult to analyze whether my classification models were learning in intermediate steps. Regression models were easier to interpret for me, and I can easily change the regression results (predicted reliability as a percentage) into classification results (is the train less than 90% reliable today?)."
   ]
  },
  {
   "cell_type": "code",
   "execution_count": 3,
   "metadata": {},
   "outputs": [],
   "source": [
    "random_state = 1130\n",
    "# make list of scalers, decompositions, and models for gridsearch\n",
    "scalers = {\"standard_scaler\": sklearn.preprocessing.StandardScaler(),\n",
    "           \"minmax_scaler\": sklearn.preprocessing.MinMaxScaler(),\n",
    "           \"normal_scaler\": sklearn.preprocessing.Normalizer(),\n",
    "           \"none\": None}\n",
    "\n",
    "# PCA with list of hyperparamter options for hyperparameter tuning\n",
    "decompositions = {\"pca\": [sklearn.decomposition.PCA(), {\"n_components\": [*range(14, 14 ** 2 + 1, 14)]}],\n",
    "                  \"fa\": [sklearn.decomposition.FactorAnalysis(), {\"n_components\": [*range(14, 14 ** 2 + 1, 14)]}],\n",
    "                  \"none\": None}\n",
    "\n",
    "# list of models and parameters to exhaustively try. max iterations set just so program doesn't hang.\n",
    "models = {\"svm\": [sklearn.svm.SVR(max_iter=1000),\n",
    "                  {\"kernel\": [\"linear\", \"poly\", \"rbf\", \"sigmoid\"]}],\n",
    "          \"rf\": [sklearn.ensemble.RandomForestRegressor(max_depth=10, random_state=random_state),\n",
    "                 {\"n_estimators\": [*range(25, 100 + 1, 25)], \"criterion\": [\"squared_error\", \"poisson\"]}],\n",
    "          \"adaboost\": [sklearn.ensemble.AdaBoostRegressor(random_state=random_state),\n",
    "                       {\"n_estimators\": [*range(25, 100 + 1, 25)]}],\n",
    "          \"mlp\": [sklearn.neural_network.MLPRegressor(random_state=random_state),\n",
    "                  {\"hidden_layer_sizes\": [(25, 10), (15, 5)], \"solver\": [\"adam\", \"sgd\"]}]}"
   ]
  },
  {
   "cell_type": "markdown",
   "metadata": {},
   "source": [
    "With this list of modules and their respective hyperparameters, I will now exhaustively explore all combinations of modules, and determine the best hyperparameters for that combination. Finally, I will compare the MSE of this combination against the best previous combination, and save the new best. The best combination of modules, as well as its hyperparameters, is outputted for later use."
   ]
  },
  {
   "cell_type": "code",
   "execution_count": 4,
   "metadata": {
    "scrolled": false
   },
   "outputs": [
    {
     "name": "stdout",
     "output_type": "stream",
     "text": [
      "Beginning exhaustive search...\n",
      "Starting scaler=standard_scaler, decomposition=pca, model=svm\n",
      "Average MSE across 5 folds:0.004603069\n",
      "Parameters used: {'pca__n_components': 28, 'svm__kernel': 'rbf'}\n",
      "NEW BEST FOUND\n",
      "\n",
      "Starting scaler=standard_scaler, decomposition=pca, model=rf\n",
      "Average MSE across 5 folds:0.003513236\n",
      "Parameters used: {'pca__n_components': 154, 'rf__criterion': 'poisson', 'rf__n_estimators': 25}\n",
      "NEW BEST FOUND\n",
      "\n",
      "Starting scaler=standard_scaler, decomposition=pca, model=adaboost\n",
      "Average MSE across 5 folds:0.002619690\n",
      "Parameters used: {'adaboost__n_estimators': 25, 'pca__n_components': 154}\n",
      "NEW BEST FOUND\n",
      "\n",
      "Starting scaler=standard_scaler, decomposition=pca, model=mlp\n",
      "Average MSE across 5 folds:0.022010542\n",
      "Parameters used: {'mlp__hidden_layer_sizes': (15, 5), 'mlp__solver': 'sgd', 'pca__n_components': 112}\n",
      "\n",
      "Starting scaler=standard_scaler, decomposition=fa, model=svm\n",
      "Average MSE across 5 folds:0.004322060\n",
      "Parameters used: {'fa__n_components': 56, 'svm__kernel': 'rbf'}\n",
      "\n",
      "Starting scaler=standard_scaler, decomposition=fa, model=rf\n",
      "Average MSE across 5 folds:0.002829752\n",
      "Parameters used: {'fa__n_components': 154, 'rf__criterion': 'poisson', 'rf__n_estimators': 50}\n",
      "\n",
      "Starting scaler=standard_scaler, decomposition=fa, model=adaboost\n",
      "Average MSE across 5 folds:0.002638800\n",
      "Parameters used: {'adaboost__n_estimators': 25, 'fa__n_components': 140}\n",
      "\n",
      "Starting scaler=standard_scaler, decomposition=fa, model=mlp\n",
      "Average MSE across 5 folds:0.011850532\n",
      "Parameters used: {'fa__n_components': 112, 'mlp__hidden_layer_sizes': (15, 5), 'mlp__solver': 'sgd'}\n",
      "\n",
      "Starting scaler=standard_scaler, decomposition=none, model=svm\n",
      "Average MSE across 5 folds:0.005212253\n",
      "Parameters used: {'svm__kernel': 'rbf'}\n",
      "\n",
      "Starting scaler=standard_scaler, decomposition=none, model=rf\n",
      "Average MSE across 5 folds:0.003360665\n",
      "Parameters used: {'rf__criterion': 'squared_error', 'rf__n_estimators': 50}\n",
      "\n",
      "Starting scaler=standard_scaler, decomposition=none, model=adaboost\n",
      "Average MSE across 5 folds:0.003111481\n",
      "Parameters used: {'adaboost__n_estimators': 25}\n",
      "\n",
      "Starting scaler=standard_scaler, decomposition=none, model=mlp\n",
      "Average MSE across 5 folds:0.166728643\n",
      "Parameters used: {'mlp__hidden_layer_sizes': (15, 5), 'mlp__solver': 'sgd'}\n",
      "\n",
      "Starting scaler=minmax_scaler, decomposition=pca, model=svm\n",
      "Average MSE across 5 folds:0.004621539\n",
      "Parameters used: {'pca__n_components': 28, 'svm__kernel': 'rbf'}\n",
      "\n",
      "Starting scaler=minmax_scaler, decomposition=pca, model=rf\n",
      "Average MSE across 5 folds:0.003143727\n",
      "Parameters used: {'pca__n_components': 154, 'rf__criterion': 'squared_error', 'rf__n_estimators': 100}\n",
      "\n",
      "Starting scaler=minmax_scaler, decomposition=pca, model=adaboost\n",
      "Average MSE across 5 folds:0.002669943\n",
      "Parameters used: {'adaboost__n_estimators': 25, 'pca__n_components': 70}\n",
      "\n",
      "Starting scaler=minmax_scaler, decomposition=pca, model=mlp\n",
      "Average MSE across 5 folds:0.004317479\n",
      "Parameters used: {'mlp__hidden_layer_sizes': (15, 5), 'mlp__solver': 'adam', 'pca__n_components': 126}\n",
      "\n",
      "Starting scaler=minmax_scaler, decomposition=fa, model=svm\n",
      "Average MSE across 5 folds:0.004191547\n",
      "Parameters used: {'fa__n_components': 56, 'svm__kernel': 'rbf'}\n",
      "\n",
      "Starting scaler=minmax_scaler, decomposition=fa, model=rf\n",
      "Average MSE across 5 folds:0.003000823\n",
      "Parameters used: {'fa__n_components': 154, 'rf__criterion': 'poisson', 'rf__n_estimators': 50}\n",
      "\n",
      "Starting scaler=minmax_scaler, decomposition=fa, model=adaboost\n",
      "Average MSE across 5 folds:0.002550356\n",
      "Parameters used: {'adaboost__n_estimators': 25, 'fa__n_components': 126}\n",
      "NEW BEST FOUND\n",
      "\n",
      "Starting scaler=minmax_scaler, decomposition=fa, model=mlp\n",
      "Average MSE across 5 folds:0.010820898\n",
      "Parameters used: {'fa__n_components': 112, 'mlp__hidden_layer_sizes': (15, 5), 'mlp__solver': 'sgd'}\n",
      "\n",
      "Starting scaler=minmax_scaler, decomposition=none, model=svm\n",
      "Average MSE across 5 folds:0.005178977\n",
      "Parameters used: {'svm__kernel': 'rbf'}\n",
      "\n",
      "Starting scaler=minmax_scaler, decomposition=none, model=rf\n",
      "Average MSE across 5 folds:0.003360665\n",
      "Parameters used: {'rf__criterion': 'squared_error', 'rf__n_estimators': 50}\n",
      "\n",
      "Starting scaler=minmax_scaler, decomposition=none, model=adaboost\n",
      "Average MSE across 5 folds:0.003111481\n",
      "Parameters used: {'adaboost__n_estimators': 25}\n",
      "\n",
      "Starting scaler=minmax_scaler, decomposition=none, model=mlp\n",
      "Average MSE across 5 folds:0.039930764\n",
      "Parameters used: {'mlp__hidden_layer_sizes': (25, 10), 'mlp__solver': 'sgd'}\n",
      "\n",
      "Starting scaler=normal_scaler, decomposition=pca, model=svm\n",
      "Average MSE across 5 folds:0.004912906\n",
      "Parameters used: {'pca__n_components': 28, 'svm__kernel': 'linear'}\n",
      "\n",
      "Starting scaler=normal_scaler, decomposition=pca, model=rf\n",
      "Average MSE across 5 folds:0.002662537\n",
      "Parameters used: {'pca__n_components': 28, 'rf__criterion': 'squared_error', 'rf__n_estimators': 100}\n",
      "\n",
      "Starting scaler=normal_scaler, decomposition=pca, model=adaboost\n",
      "Average MSE across 5 folds:0.002444457\n",
      "Parameters used: {'adaboost__n_estimators': 100, 'pca__n_components': 70}\n",
      "NEW BEST FOUND\n",
      "\n",
      "Starting scaler=normal_scaler, decomposition=pca, model=mlp\n",
      "Average MSE across 5 folds:0.002275088\n",
      "Parameters used: {'mlp__hidden_layer_sizes': (25, 10), 'mlp__solver': 'adam', 'pca__n_components': 126}\n",
      "NEW BEST FOUND\n",
      "\n",
      "Starting scaler=normal_scaler, decomposition=fa, model=svm\n",
      "Average MSE across 5 folds:0.004471564\n",
      "Parameters used: {'fa__n_components': 14, 'svm__kernel': 'rbf'}\n",
      "\n",
      "Starting scaler=normal_scaler, decomposition=fa, model=rf\n",
      "Average MSE across 5 folds:0.002991271\n",
      "Parameters used: {'fa__n_components': 126, 'rf__criterion': 'squared_error', 'rf__n_estimators': 50}\n",
      "\n",
      "Starting scaler=normal_scaler, decomposition=fa, model=adaboost\n",
      "Average MSE across 5 folds:0.002605410\n",
      "Parameters used: {'adaboost__n_estimators': 25, 'fa__n_components': 154}\n",
      "\n",
      "Starting scaler=normal_scaler, decomposition=fa, model=mlp\n",
      "Average MSE across 5 folds:0.011939893\n",
      "Parameters used: {'fa__n_components': 70, 'mlp__hidden_layer_sizes': (15, 5), 'mlp__solver': 'sgd'}\n",
      "\n",
      "Starting scaler=normal_scaler, decomposition=none, model=svm\n",
      "Average MSE across 5 folds:0.004415611\n",
      "Parameters used: {'svm__kernel': 'poly'}\n",
      "\n",
      "Starting scaler=normal_scaler, decomposition=none, model=rf\n",
      "Average MSE across 5 folds:0.002655286\n",
      "Parameters used: {'rf__criterion': 'squared_error', 'rf__n_estimators': 50}\n",
      "\n",
      "Starting scaler=normal_scaler, decomposition=none, model=adaboost\n",
      "Average MSE across 5 folds:0.003164021\n",
      "Parameters used: {'adaboost__n_estimators': 25}\n",
      "\n",
      "Starting scaler=normal_scaler, decomposition=none, model=mlp\n",
      "Average MSE across 5 folds:0.002562353\n",
      "Parameters used: {'mlp__hidden_layer_sizes': (25, 10), 'mlp__solver': 'sgd'}\n",
      "\n",
      "Starting scaler=none, decomposition=pca, model=svm\n",
      "Average MSE across 5 folds:0.005322567\n",
      "Parameters used: {'pca__n_components': 28, 'svm__kernel': 'rbf'}\n",
      "\n",
      "Starting scaler=none, decomposition=pca, model=rf\n",
      "Average MSE across 5 folds:0.002529227\n",
      "Parameters used: {'pca__n_components': 56, 'rf__criterion': 'poisson', 'rf__n_estimators': 100}\n",
      "\n",
      "Starting scaler=none, decomposition=pca, model=adaboost\n",
      "Average MSE across 5 folds:0.002498710\n",
      "Parameters used: {'adaboost__n_estimators': 25, 'pca__n_components': 42}\n",
      "\n",
      "Starting scaler=none, decomposition=pca, model=mlp\n",
      "Failed to converge. Moving to next.\n",
      "\n",
      "Starting scaler=none, decomposition=fa, model=svm\n",
      "Average MSE across 5 folds:0.004364606\n",
      "Parameters used: {'fa__n_components': 42, 'svm__kernel': 'rbf'}\n",
      "\n",
      "Starting scaler=none, decomposition=fa, model=rf\n",
      "Average MSE across 5 folds:0.002286538\n",
      "Parameters used: {'fa__n_components': 84, 'rf__criterion': 'squared_error', 'rf__n_estimators': 50}\n",
      "\n",
      "Starting scaler=none, decomposition=fa, model=adaboost\n",
      "Average MSE across 5 folds:0.002339106\n",
      "Parameters used: {'adaboost__n_estimators': 25, 'fa__n_components': 126}\n",
      "\n",
      "Starting scaler=none, decomposition=fa, model=mlp\n",
      "Average MSE across 5 folds:0.019073212\n",
      "Parameters used: {'fa__n_components': 70, 'mlp__hidden_layer_sizes': (15, 5), 'mlp__solver': 'sgd'}\n",
      "\n",
      "Starting scaler=none, decomposition=none, model=svm\n",
      "Average MSE across 5 folds:0.005185349\n",
      "Parameters used: {'svm__kernel': 'poly'}\n",
      "\n",
      "Starting scaler=none, decomposition=none, model=rf\n",
      "Average MSE across 5 folds:0.003360665\n",
      "Parameters used: {'rf__criterion': 'squared_error', 'rf__n_estimators': 50}\n",
      "\n",
      "Starting scaler=none, decomposition=none, model=adaboost\n"
     ]
    },
    {
     "name": "stdout",
     "output_type": "stream",
     "text": [
      "Average MSE across 5 folds:0.003111481\n",
      "Parameters used: {'adaboost__n_estimators': 25}\n",
      "\n",
      "Starting scaler=none, decomposition=none, model=mlp\n",
      "Failed to converge. Moving to next.\n",
      "\n",
      "Best found after search.\n",
      "{'score': 0.0022750882947646803, 'steps': [('normal_scaler', Normalizer()), ('pca', PCA()), ('mlp', MLPRegressor(random_state=1130))], 'parameters': {'mlp__hidden_layer_sizes': (25, 10), 'mlp__solver': 'adam', 'pca__n_components': 126}}\n"
     ]
    }
   ],
   "source": [
    "# make all combinations of scalers, decompositions, and models.\n",
    "# do grid search on these iterations.\n",
    "# find best combo with best params.\n",
    "\n",
    "print(\"Beginning exhaustive search...\")\n",
    "# save best model and parameters for later\n",
    "best = {\"score\": 100, \"steps\": None, \"parameters\": None}\n",
    "# loop through all permuations\n",
    "for scaler_name, scaler in scalers.items():\n",
    "    for decomposition_name, decomposition_data in decompositions.items():\n",
    "        for model_name, model_data in models.items():\n",
    "            print(f\"Starting scaler={scaler_name}, decomposition={decomposition_name}, model={model_name}\")\n",
    "            param_grid = {}\n",
    "            steps = []\n",
    "            # use a scaler?\n",
    "            if scaler_name != \"none\":\n",
    "                # add scaler to steps\n",
    "                steps.append((scaler_name, scaler))\n",
    "            # use a decomposition?\n",
    "            if decomposition_name != \"none\":\n",
    "                decomposition, params = decomposition_data\n",
    "                # add all parameters to param grid\n",
    "                for param_name, args in params.items():\n",
    "                    param_grid.update({f\"{decomposition_name}__{param_name}\": args})\n",
    "                # add pca to steps\n",
    "                steps.append((decomposition_name, decomposition))\n",
    "            model, params = model_data\n",
    "            for param_name, args in params.items():\n",
    "                # add all parameters to param grid\n",
    "                param_grid.update({f\"{model_name}__{param_name}\": args})\n",
    "                # add model to steps\n",
    "            steps.append((model_name, model))\n",
    "\n",
    "            pipe = Pipeline(steps=steps)\n",
    "\n",
    "            # create 5-fold cross validation grid search object for this permuation\n",
    "            # will find best parameters for this specific scaler, decomposition, and model combination\n",
    "            search = sklearn.model_selection.GridSearchCV(pipe, param_grid, n_jobs=5, scoring=\"neg_mean_squared_error\",\n",
    "                                                          error_score=\"raise\")\n",
    "            try:\n",
    "                search.fit(train_X, train_y)\n",
    "                print(f\"Average MSE across 5 folds:{-search.best_score_:0.9f}\")\n",
    "                print(\"Parameters used:\", search.best_params_)\n",
    "                # using negative MSE, we try to maximize score\n",
    "                if -search.best_score_ < best[\"score\"]:\n",
    "                    best[\"score\"] = -search.best_score_\n",
    "                    best[\"steps\"] = steps\n",
    "                    best[\"parameters\"] = search.best_params_\n",
    "                    print(\"NEW BEST FOUND\")\n",
    "                print()\n",
    "            except:\n",
    "                print(\"Failed to converge. Moving to next.\")\n",
    "                print()\n",
    "print(\"Best found after search.\")\n",
    "print(best)"
   ]
  },
  {
   "cell_type": "markdown",
   "metadata": {},
   "source": [
    "After a very exhaustive search, it was found that normalizing the data, then using PCA with 126 components, then using a multi-layer perceptron with hidden layers of size 25 and then 10 is the optimal solution for predicting red line reliability. Now, it is time to get more in-depth metrics."
   ]
  },
  {
   "cell_type": "code",
   "execution_count": 7,
   "metadata": {},
   "outputs": [
    {
     "data": {
      "text/html": [
       "<style>#sk-container-id-1 {color: black;background-color: white;}#sk-container-id-1 pre{padding: 0;}#sk-container-id-1 div.sk-toggleable {background-color: white;}#sk-container-id-1 label.sk-toggleable__label {cursor: pointer;display: block;width: 100%;margin-bottom: 0;padding: 0.3em;box-sizing: border-box;text-align: center;}#sk-container-id-1 label.sk-toggleable__label-arrow:before {content: \"▸\";float: left;margin-right: 0.25em;color: #696969;}#sk-container-id-1 label.sk-toggleable__label-arrow:hover:before {color: black;}#sk-container-id-1 div.sk-estimator:hover label.sk-toggleable__label-arrow:before {color: black;}#sk-container-id-1 div.sk-toggleable__content {max-height: 0;max-width: 0;overflow: hidden;text-align: left;background-color: #f0f8ff;}#sk-container-id-1 div.sk-toggleable__content pre {margin: 0.2em;color: black;border-radius: 0.25em;background-color: #f0f8ff;}#sk-container-id-1 input.sk-toggleable__control:checked~div.sk-toggleable__content {max-height: 200px;max-width: 100%;overflow: auto;}#sk-container-id-1 input.sk-toggleable__control:checked~label.sk-toggleable__label-arrow:before {content: \"▾\";}#sk-container-id-1 div.sk-estimator input.sk-toggleable__control:checked~label.sk-toggleable__label {background-color: #d4ebff;}#sk-container-id-1 div.sk-label input.sk-toggleable__control:checked~label.sk-toggleable__label {background-color: #d4ebff;}#sk-container-id-1 input.sk-hidden--visually {border: 0;clip: rect(1px 1px 1px 1px);clip: rect(1px, 1px, 1px, 1px);height: 1px;margin: -1px;overflow: hidden;padding: 0;position: absolute;width: 1px;}#sk-container-id-1 div.sk-estimator {font-family: monospace;background-color: #f0f8ff;border: 1px dotted black;border-radius: 0.25em;box-sizing: border-box;margin-bottom: 0.5em;}#sk-container-id-1 div.sk-estimator:hover {background-color: #d4ebff;}#sk-container-id-1 div.sk-parallel-item::after {content: \"\";width: 100%;border-bottom: 1px solid gray;flex-grow: 1;}#sk-container-id-1 div.sk-label:hover label.sk-toggleable__label {background-color: #d4ebff;}#sk-container-id-1 div.sk-serial::before {content: \"\";position: absolute;border-left: 1px solid gray;box-sizing: border-box;top: 0;bottom: 0;left: 50%;z-index: 0;}#sk-container-id-1 div.sk-serial {display: flex;flex-direction: column;align-items: center;background-color: white;padding-right: 0.2em;padding-left: 0.2em;position: relative;}#sk-container-id-1 div.sk-item {position: relative;z-index: 1;}#sk-container-id-1 div.sk-parallel {display: flex;align-items: stretch;justify-content: center;background-color: white;position: relative;}#sk-container-id-1 div.sk-item::before, #sk-container-id-1 div.sk-parallel-item::before {content: \"\";position: absolute;border-left: 1px solid gray;box-sizing: border-box;top: 0;bottom: 0;left: 50%;z-index: -1;}#sk-container-id-1 div.sk-parallel-item {display: flex;flex-direction: column;z-index: 1;position: relative;background-color: white;}#sk-container-id-1 div.sk-parallel-item:first-child::after {align-self: flex-end;width: 50%;}#sk-container-id-1 div.sk-parallel-item:last-child::after {align-self: flex-start;width: 50%;}#sk-container-id-1 div.sk-parallel-item:only-child::after {width: 0;}#sk-container-id-1 div.sk-dashed-wrapped {border: 1px dashed gray;margin: 0 0.4em 0.5em 0.4em;box-sizing: border-box;padding-bottom: 0.4em;background-color: white;}#sk-container-id-1 div.sk-label label {font-family: monospace;font-weight: bold;display: inline-block;line-height: 1.2em;}#sk-container-id-1 div.sk-label-container {text-align: center;}#sk-container-id-1 div.sk-container {/* jupyter's `normalize.less` sets `[hidden] { display: none; }` but bootstrap.min.css set `[hidden] { display: none !important; }` so we also need the `!important` here to be able to override the default hidden behavior on the sphinx rendered scikit-learn.org. See: https://github.com/scikit-learn/scikit-learn/issues/21755 */display: inline-block !important;position: relative;}#sk-container-id-1 div.sk-text-repr-fallback {display: none;}</style><div id=\"sk-container-id-1\" class=\"sk-top-container\"><div class=\"sk-text-repr-fallback\"><pre>Pipeline(steps=[(&#x27;normal_scaler&#x27;, Normalizer()), (&#x27;pca&#x27;, PCA(n_components=126)),\n",
       "                (&#x27;mlp&#x27;,\n",
       "                 MLPRegressor(hidden_layer_sizes=(25, 10), random_state=1130))])</pre><b>In a Jupyter environment, please rerun this cell to show the HTML representation or trust the notebook. <br />On GitHub, the HTML representation is unable to render, please try loading this page with nbviewer.org.</b></div><div class=\"sk-container\" hidden><div class=\"sk-item sk-dashed-wrapped\"><div class=\"sk-label-container\"><div class=\"sk-label sk-toggleable\"><input class=\"sk-toggleable__control sk-hidden--visually\" id=\"sk-estimator-id-1\" type=\"checkbox\" ><label for=\"sk-estimator-id-1\" class=\"sk-toggleable__label sk-toggleable__label-arrow\">Pipeline</label><div class=\"sk-toggleable__content\"><pre>Pipeline(steps=[(&#x27;normal_scaler&#x27;, Normalizer()), (&#x27;pca&#x27;, PCA(n_components=126)),\n",
       "                (&#x27;mlp&#x27;,\n",
       "                 MLPRegressor(hidden_layer_sizes=(25, 10), random_state=1130))])</pre></div></div></div><div class=\"sk-serial\"><div class=\"sk-item\"><div class=\"sk-estimator sk-toggleable\"><input class=\"sk-toggleable__control sk-hidden--visually\" id=\"sk-estimator-id-2\" type=\"checkbox\" ><label for=\"sk-estimator-id-2\" class=\"sk-toggleable__label sk-toggleable__label-arrow\">Normalizer</label><div class=\"sk-toggleable__content\"><pre>Normalizer()</pre></div></div></div><div class=\"sk-item\"><div class=\"sk-estimator sk-toggleable\"><input class=\"sk-toggleable__control sk-hidden--visually\" id=\"sk-estimator-id-3\" type=\"checkbox\" ><label for=\"sk-estimator-id-3\" class=\"sk-toggleable__label sk-toggleable__label-arrow\">PCA</label><div class=\"sk-toggleable__content\"><pre>PCA(n_components=126)</pre></div></div></div><div class=\"sk-item\"><div class=\"sk-estimator sk-toggleable\"><input class=\"sk-toggleable__control sk-hidden--visually\" id=\"sk-estimator-id-4\" type=\"checkbox\" ><label for=\"sk-estimator-id-4\" class=\"sk-toggleable__label sk-toggleable__label-arrow\">MLPRegressor</label><div class=\"sk-toggleable__content\"><pre>MLPRegressor(hidden_layer_sizes=(25, 10), random_state=1130)</pre></div></div></div></div></div></div></div>"
      ],
      "text/plain": [
       "Pipeline(steps=[('normal_scaler', Normalizer()), ('pca', PCA(n_components=126)),\n",
       "                ('mlp',\n",
       "                 MLPRegressor(hidden_layer_sizes=(25, 10), random_state=1130))])"
      ]
     },
     "execution_count": 7,
     "metadata": {},
     "output_type": "execute_result"
    }
   ],
   "source": [
    "# based on the output, the following pipeline is the best!\n",
    "steps = [('normal_scaler', sklearn.preprocessing.Normalizer()), ('pca', sklearn.decomposition.PCA(n_components=126)),\n",
    "         ('mlp', sklearn.neural_network.MLPRegressor(random_state=1130, hidden_layer_sizes=(25, 10), solver=\"adam\"))]\n",
    "pipeline = Pipeline(steps=steps)\n",
    "pipeline.fit(train_X, train_y)"
   ]
  },
  {
   "cell_type": "code",
   "execution_count": 8,
   "metadata": {},
   "outputs": [
    {
     "name": "stdout",
     "output_type": "stream",
     "text": [
      "Regression metrics for best model:\n",
      "r^2: 0.03884912275644559\n",
      "MAE: 0.02929222232883267\n",
      "RMSE: 0.04005672537412106\n"
     ]
    }
   ],
   "source": [
    "# calculate regression metrics\n",
    "preds = pipeline.predict(test_X)\n",
    "r2 = sklearn.metrics.r2_score(test_y, preds)\n",
    "mae = sklearn.metrics.mean_absolute_error(test_y, preds)\n",
    "mse = sklearn.metrics.mean_squared_error(test_y, preds)\n",
    "rmse = mse ** 0.5\n",
    "print(\"Regression metrics for best model:\")\n",
    "print(\"r^2:\", r2)\n",
    "print(\"MAE:\", mae)\n",
    "print(\"RMSE:\", rmse)"
   ]
  },
  {
   "cell_type": "markdown",
   "metadata": {},
   "source": [
    "We get very low MAE and RMSE, but also a very low R squared? Time to look into that."
   ]
  },
  {
   "cell_type": "code",
   "execution_count": 9,
   "metadata": {},
   "outputs": [
    {
     "data": {
      "text/plain": [
       "Text(0.5, 1.0, 'Distribution of Predictions and True Values')"
      ]
     },
     "execution_count": 9,
     "metadata": {},
     "output_type": "execute_result"
    },
    {
     "data": {
      "image/png": "[encoded data removed]",
      "text/plain": [
       "<Figure size 640x480 with 1 Axes>"
      ]
     },
     "metadata": {},
     "output_type": "display_data"
    }
   ],
   "source": [
    "# investigate why my R2 is so terrible\n",
    "df = {\"predictions\": preds, \"truths\": test_y}\n",
    "df = pd.DataFrame(df)\n",
    "df[\"truths\"].hist(bins=25, legend=True)\n",
    "df[\"predictions\"].hist(bins=25, legend=True)\n",
    "plt.title(\"Distribution of Predictions and True Values\")"
   ]
  },
  {
   "cell_type": "markdown",
   "metadata": {},
   "source": [
    "It seems that the distributions are the same, but the predictions are centered more around the median. Interesting! Maybe clasification will work."
   ]
  },
  {
   "cell_type": "code",
   "execution_count": 10,
   "metadata": {},
   "outputs": [
    {
     "name": "stdout",
     "output_type": "stream",
     "text": [
      "              precision    recall  f1-score   support\n",
      "\n",
      "       False       0.63      0.58      0.61       154\n",
      "        True       0.70      0.74      0.72       204\n",
      "\n",
      "    accuracy                           0.67       358\n",
      "   macro avg       0.67      0.66      0.66       358\n",
      "weighted avg       0.67      0.67      0.67       358\n",
      "\n"
     ]
    }
   ],
   "source": [
    "# calculate initial classification metrics\n",
    "class_preds = preds < .91\n",
    "class_test_y = test_y < .91\n",
    "print(sklearn.metrics.classification_report(class_test_y, class_preds))"
   ]
  },
  {
   "cell_type": "markdown",
   "metadata": {},
   "source": [
    "67% accuracy! Awesome. And above 50% precision and recall for all classes. Huge success. Now, I will look at producing ROC curves."
   ]
  },
  {
   "cell_type": "code",
   "execution_count": 11,
   "metadata": {},
   "outputs": [],
   "source": [
    "# produce \"confidences\" for prediction. Kind of tricky given the regression --> classification nature of my approach.\n",
    "# here, I decide that confidence is the number of standard deviations from the mean of the predicted reliability. If it is far from the median, it is mroe confident it is either late or on time. This value is minmax scaled between 0 and 1, for use in ROC calculations.\n",
    "normalized = (preds - np.mean(preds)) / np.std(preds)\n",
    "confidences = (normalized.max() - normalized) / (normalized.max() - normalized.min())\n",
    "fpr, tpr, thresh = sklearn.metrics.roc_curve(class_test_y, confidences)\n",
    "auc = sklearn.metrics.auc(fpr, tpr)"
   ]
  },
  {
   "cell_type": "code",
   "execution_count": 12,
   "metadata": {},
   "outputs": [
    {
     "data": {
      "image/png": "[encoded data removed]",
      "text/plain": [
       "<Figure size 1000x1000 with 1 Axes>"
      ]
     },
     "metadata": {},
     "output_type": "display_data"
    }
   ],
   "source": [
    "# plot my ROC curve!\n",
    "plt.figure(figsize=(10, 10))\n",
    "plt.plot(fpr, tpr, label=f'ROC curve (area = {round(auc, 3)}')\n",
    "plt.plot([0, 1], [0, 1], linestyle='--', lw=2, color='r', label='Random (area = 0.500)')\n",
    "plt.title('ROC curve')\n",
    "plt.xlabel('False Positive Rate')\n",
    "plt.ylabel('True Positive Rate')\n",
    "plt.grid()\n",
    "plt.legend()\n",
    "plt.show()"
   ]
  },
  {
   "cell_type": "markdown",
   "metadata": {},
   "source": [
    "And a not-too-shabby ROC curve. Very very slick.\n",
    "\n",
    "## Conclusion\n",
    "\n",
    "I produced a model that was highly successful at predicting whether the MBTA's Red line would be late. It also serves a double purpose of producing a continuous confidence of that prediction. This model exceeded the 60% accuracy goal. "
   ]
  },
  {
   "cell_type": "code",
   "execution_count": null,
   "metadata": {},
   "outputs": [],
   "source": []
  }
 ],
 "metadata": {
  "kernelspec": {
   "display_name": "Python 3 (ipykernel)",
   "language": "python",
   "name": "python3"
  },
  "language_info": {
   "codemirror_mode": {
    "name": "ipython",
    "version": 3
   },
   "file_extension": ".py",
   "mimetype": "text/x-python",
   "name": "python",
   "nbconvert_exporter": "python",
   "pygments_lexer": "ipython3",
   "version": "3.11.1"
  }
 },
 "nbformat": 4,
 "nbformat_minor": 1
}
